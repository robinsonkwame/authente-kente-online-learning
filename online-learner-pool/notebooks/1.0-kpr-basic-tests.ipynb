{
 "cells": [
  {
   "cell_type": "code",
   "execution_count": 1,
   "id": "839d3a53",
   "metadata": {},
   "outputs": [],
   "source": [
    "from vowpalwabbit import pyvw"
   ]
  },
  {
   "cell_type": "code",
   "execution_count": 7,
   "id": "30d718b8",
   "metadata": {},
   "outputs": [
    {
     "name": "stdout",
     "output_type": "stream",
     "text": [
      "first vw has 0x7f11cc42d950 and second has 0x7f11cc3b1ae0\n",
      "first model predicted 0.632030725479126, second predicted  0.0\n"
     ]
    }
   ],
   "source": [
    "# Property 1: Inital test to verify that more than one vw can be used\n",
    "# and that they do not share model memory\n",
    "\n",
    "first_vw = pyvw.vw(quiet=True)\n",
    "second_vw = pyvw.vw(quiet=True)\n",
    "print(f\"first vw has {hex(id(first_vw))} and second vw has {hex(id(second_vw))}\")\n",
    "id(first_vw) == id(second_vw), \"First and second instances point to the same memory!\"\n",
    "\n",
    "# But they don't seem to share model memory? Note how even the examples are in scope of\n",
    "# the instance\n",
    "ex = first_vw.example('1 | a b c')\n",
    "first_vw.learn(ex)\n",
    "\n",
    "first_predict = first_vw.predict(ex)\n",
    "second_predict = second_vw.predict(ex)\n",
    "\n",
    "print(f\"first model predicted {first_predict}, second predicted  {second_predict}\")\n",
    "assert first_predict != second_predict, \"Models seems equivalent because same prediction was given\""
   ]
  },
  {
   "cell_type": "code",
   "execution_count": null,
   "id": "40b87c5d",
   "metadata": {},
   "outputs": [],
   "source": [
    "# Property 2: Referencing a config file, create a pool of learners"
   ]
  }
 ],
 "metadata": {
  "kernelspec": {
   "display_name": "Python 3 (ipykernel)",
   "language": "python",
   "name": "python3"
  },
  "language_info": {
   "codemirror_mode": {
    "name": "ipython",
    "version": 3
   },
   "file_extension": ".py",
   "mimetype": "text/x-python",
   "name": "python",
   "nbconvert_exporter": "python",
   "pygments_lexer": "ipython3",
   "version": "3.8.9"
  }
 },
 "nbformat": 4,
 "nbformat_minor": 5
}
