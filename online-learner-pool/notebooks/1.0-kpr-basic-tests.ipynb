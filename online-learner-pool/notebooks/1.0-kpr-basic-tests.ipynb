{
 "cells": [
  {
   "cell_type": "code",
   "execution_count": 1,
   "id": "cb75b44b",
   "metadata": {},
   "outputs": [],
   "source": [
    "# This notebook is a test of several properties that are needed \n",
    "# to stand up an end to end pool of online learners\n",
    "from vowpalwabbit import pyvw"
   ]
  },
  {
   "cell_type": "code",
   "execution_count": 2,
   "id": "802946cb",
   "metadata": {},
   "outputs": [
    {
     "name": "stdout",
     "output_type": "stream",
     "text": [
      "first vw has 0x7fd910737630 and second vw has 0x7fd910731b30\n",
      "first model predicted 0.632030725479126, second predicted  0.0\n"
     ]
    }
   ],
   "source": [
    "# Property 1: Inital test to verify that more than one vw can be used\n",
    "# and that they do not share model memory\n",
    "\n",
    "first_vw = pyvw.vw(quiet=True)\n",
    "second_vw = pyvw.vw(quiet=True)\n",
    "print(f\"first vw has {hex(id(first_vw))} and second vw has {hex(id(second_vw))}\")\n",
    "id(first_vw) == id(second_vw), \"First and second instances point to the same memory!\"\n",
    "\n",
    "# But they don't seem to share model memory? Note how even the examples are in scope of\n",
    "# the instance\n",
    "ex = first_vw.example('1 | a b c')\n",
    "first_vw.learn(ex)\n",
    "\n",
    "first_predict = first_vw.predict(ex)\n",
    "second_predict = second_vw.predict(ex)\n",
    "\n",
    "print(f\"first model predicted {first_predict}, second predicted  {second_predict}\")\n",
    "assert first_predict != second_predict, \"Models seems equivalent because same prediction was given\""
   ]
  },
  {
   "cell_type": "code",
   "execution_count": 3,
   "id": "f1b4ecb1",
   "metadata": {},
   "outputs": [
    {
     "name": "stdout",
     "output_type": "stream",
     "text": [
      "\t ...adding singing-swine\n",
      "\t ...adding hissing-yak\n"
     ]
    }
   ],
   "source": [
    "# Property 2: Referencing a config file, create a pool of learners\n",
    "# The pool should be threadsafe (deduction from locked_dict library)\n",
    "from dynaconf import settings\n",
    "import locked_dict.locked_dict as locked_dict\n",
    "from coolname import generate_slug\n",
    "\n",
    "pool_of_learners = locked_dict.LockedDict()\n",
    "\n",
    "a_key = None\n",
    "for _ in range(settings.NUMBER_OF_LEARNERS):\n",
    "    name = generate_slug(2)\n",
    "    print(f\"\\t ...adding {name}\")\n",
    "    pool_of_learners[name] = pyvw.vw(quiet=True)\n",
    "    a_key = name\n",
    "    \n",
    "assert type(pool_of_learners[a_key]) == type(pyvw.vw(quiet=True)), \"Pool contains different types than vw!\""
   ]
  },
  {
   "cell_type": "code",
   "execution_count": 17,
   "id": "7b25fb12",
   "metadata": {},
   "outputs": [
    {
     "name": "stdout",
     "output_type": "stream",
     "text": [
      "the decision was 1.0\n"
     ]
    }
   ],
   "source": [
    "# Property 3: ImageNet can recieve and output features that a learner can accept\n",
    "\n",
    "# class code attribution @sansi95 (https://github.com/robinsonkwame/kente-cloth-authentication/src/features/feature_processor.py)\n",
    "# modified\n",
    "from abc import ABC, abstractmethod\n",
    "import numpy as np\n",
    "from keras.applications.mobilenet_v2 import MobileNetV2\n",
    "from keras.applications import imagenet_utils\n",
    "from keras.preprocessing.image import img_to_array\n",
    "from keras.preprocessing.image import load_img\n",
    "from dynaconf import settings # because we frequently update the file \n",
    "import PIL\n",
    "\n",
    "class FeatureProcessor(ABC):\n",
    "    def __init__(self,\n",
    "                 batch_size,\n",
    "                 flattened_size,\n",
    "                 feature_file_format\n",
    "                ):\n",
    "        super().__init__()\n",
    "        self.batch_size = batch_size\n",
    "        self.flattened_size = flattened_size\n",
    "        self.feature_file_format = feature_file_format\n",
    "\n",
    "    @staticmethod\n",
    "    def create(\n",
    "        feature_processor_name,\n",
    "        batch_size,\n",
    "        feature_file_format\n",
    "    ):\n",
    "        if feature_processor_name == \"MobileNet\":\n",
    "            flattened_size = 7 * 7 * 1280\n",
    "            return MobileNetFeatureProcessor(batch_size, flattened_size, feature_file_format)\n",
    "\n",
    "    def initialize_output_processor(self, labels, feature_file_path):\n",
    "        if self.feature_file_format == \"npy\":\n",
    "            self.output_processor = NpyOutput(labels,\n",
    "            self.flattened_size, self.batch_size, feature_file_path)\n",
    "        elif self.feature_file_format == \"csv\":\n",
    "            self.output_processor = CsvOutput(labels,\n",
    "            self.batch_size, feature_file_path)\n",
    "\n",
    "    @abstractmethod\n",
    "    def process_image(self):\n",
    "        pass\n",
    "\n",
    "    @abstractmethod\n",
    "    def create_features(self):\n",
    "        pass\n",
    "\n",
    "class MobileNetFeatureProcessor(FeatureProcessor):\n",
    "    def __init__(self, batch_size, flattened_size, feature_file_format):\n",
    "        super().__init__(batch_size, flattened_size, feature_file_format)\n",
    "        self.model = MobileNetV2(weights=\"imagenet\",\n",
    "                                 include_top=False, \n",
    "                                 input_shape=(224, 224, 3)\n",
    "                    )\n",
    "        self.name = \"mobile\"\n",
    "\n",
    "    def process_image(self, image_path):\n",
    "        image = load_img(\n",
    "            image_path,\n",
    "            target_size=(224, 224)\n",
    "        )\n",
    "        image = img_to_array(image)\n",
    "        image = np.expand_dims(image, axis=0)\n",
    "        image = imagenet_utils.preprocess_input(image)\n",
    "        return image\n",
    "\n",
    "    def create_features(self, batch_images):\n",
    "        features = self.model.predict(\n",
    "            batch_images,\n",
    "            batch_size= self.batch_size\n",
    "        )\n",
    "        features = features.reshape(\n",
    "            (features.shape[0], self.flattened_size)\n",
    "        )\n",
    "        return features\n",
    "\n",
    "def construct_vw_example(label, image_array):\n",
    "    return f\"{label} |\" + np.array2string(\n",
    "        image_array,\n",
    "        precision=4,\n",
    "        separator=' ',\n",
    "        suppress_small=True\n",
    "    )\n",
    "\n",
    "    \n",
    "the_feature_processor = FeatureProcessor.create(\n",
    "        feature_processor_name=settings.FEATURE_PROCESSOR_NAME,\n",
    "        batch_size=settings.BATCH_SIZE,\n",
    "        feature_file_format=None\n",
    ")\n",
    "\n",
    "the_image_features = the_feature_processor.create_features(\n",
    "    the_feature_processor.process_image('./real_miami_a_25.jpg')\n",
    ")\n",
    "assert the_image_features.shape[1] == 7 * 7 * 1280, \"feature vector is not the expected length\"\n",
    "\n",
    "TRUE = 1\n",
    "image_feature_ex = pool_of_learners[a_key].example(\n",
    "    construct_vw_example(TRUE, the_image_features)\n",
    ")\n",
    "pool_of_learners[a_key].learn(image_feature_ex)\n",
    "\n",
    "decision = pool_of_learners[a_key].predict(image_feature_ex)\n",
    "assert decision == TRUE, \"The learned example was predicted to be something other than the example!\"\n",
    "print(f\"the decision was {decision}\")"
   ]
  },
  {
   "cell_type": "code",
   "execution_count": 13,
   "id": "fd6020ce",
   "metadata": {},
   "outputs": [
    {
     "name": "stdout",
     "output_type": "stream",
     "text": [
      "Object `pool_of_learners[a_key]` not found.\n"
     ]
    }
   ],
   "source": []
  },
  {
   "cell_type": "code",
   "execution_count": null,
   "id": "d4b0ad07",
   "metadata": {},
   "outputs": [],
   "source": []
  }
 ],
 "metadata": {
  "kernelspec": {
   "display_name": "Python 3 (ipykernel)",
   "language": "python",
   "name": "python3"
  },
  "language_info": {
   "codemirror_mode": {
    "name": "ipython",
    "version": 3
   },
   "file_extension": ".py",
   "mimetype": "text/x-python",
   "name": "python",
   "nbconvert_exporter": "python",
   "pygments_lexer": "ipython3",
   "version": "3.8.9"
  }
 },
 "nbformat": 4,
 "nbformat_minor": 5
}
