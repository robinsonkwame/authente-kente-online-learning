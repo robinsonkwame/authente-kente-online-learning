{
 "cells": [
  {
   "cell_type": "code",
   "execution_count": 1,
   "id": "2db92c7b",
   "metadata": {},
   "outputs": [],
   "source": [
    "# For Property 4 check, @David-Lor, see: https://github.com/David-Lor/FastAPI_LightningTalk-Notebook/blob/master/FastAPI.ipynb\n",
    "import uvicorn\n",
    "from fastapi import FastAPI\n",
    "\n",
    "MY_IP_ADDRESS = '10.0.1.7'\n",
    "PORT = 8080\n",
    "app = FastAPI()\n",
    "\n",
    "def run():\n",
    "    uvicorn.run(app, port=PORT, host=MY_IP_ADDRESS)\n",
    "    \n",
    "from multiprocessing import Process\n",
    "from wait4it import wait_for\n",
    "\n",
    "_api_process = None\n",
    "\n",
    "def start_api():\n",
    "    \"\"\"Stop the API if running; Start the API; Wait until API (port) is available (reachable)\"\"\"\n",
    "    global _api_process\n",
    "    if _api_process:\n",
    "        _api_process.terminate()\n",
    "        _api_process.join()\n",
    "    \n",
    "    _api_process = Process(target=run, daemon=True)\n",
    "    _api_process.start()\n",
    "    wait_for(port=PORT)\n",
    "\n",
    "def delete_route(method: str, path: str):\n",
    "    \"\"\"Delete the given route from the API. This must be called on cells that re-define a route\"\"\"\n",
    "    [app.routes.remove(route) for route in app.routes if method in route.methods and route.path == path]"
   ]
  },
  {
   "cell_type": "code",
   "execution_count": 2,
   "id": "cb75b44b",
   "metadata": {},
   "outputs": [],
   "source": [
    "# This notebook is a test of several properties that are needed \n",
    "# to stand up an end to end pool of online learners\n",
    "from vowpalwabbit import pyvw"
   ]
  },
  {
   "cell_type": "code",
   "execution_count": 3,
   "id": "802946cb",
   "metadata": {},
   "outputs": [
    {
     "name": "stdout",
     "output_type": "stream",
     "text": [
      "first vw has 0x7eff793442c0 and second vw has 0x7eff9036ad10\n",
      "first model predicted 0.632030725479126, second predicted  0.0\n"
     ]
    }
   ],
   "source": [
    "# Property 1: Inital test to verify that more than one vw can be used\n",
    "# and that they do not share model memory\n",
    "\n",
    "first_vw = pyvw.vw(quiet=True)\n",
    "second_vw = pyvw.vw(quiet=True)\n",
    "print(f\"first vw has {hex(id(first_vw))} and second vw has {hex(id(second_vw))}\")\n",
    "id(first_vw) == id(second_vw), \"First and second instances point to the same memory!\"\n",
    "\n",
    "# But they don't seem to share model memory? Note how even the examples are in scope of\n",
    "# the instance\n",
    "ex = first_vw.example('1 | a b c')\n",
    "first_vw.learn(ex)\n",
    "\n",
    "first_predict = first_vw.predict(ex)\n",
    "second_predict = second_vw.predict(ex)\n",
    "\n",
    "print(f\"first model predicted {first_predict}, second predicted  {second_predict}\")\n",
    "assert first_predict != second_predict, \"Models seems equivalent because same prediction was given\""
   ]
  },
  {
   "cell_type": "code",
   "execution_count": 4,
   "id": "f1b4ecb1",
   "metadata": {},
   "outputs": [
    {
     "name": "stdout",
     "output_type": "stream",
     "text": [
      "\t ...adding wise-civet\n",
      "\t ...adding saffron-grasshopper\n"
     ]
    }
   ],
   "source": [
    "# Property 2: Referencing a config file, create a pool of learners\n",
    "# The pool should be threadsafe (deduction from locked_dict library)\n",
    "from dynaconf import settings\n",
    "import locked_dict.locked_dict as locked_dict\n",
    "from coolname import generate_slug\n",
    "\n",
    "pool_of_learners = locked_dict.LockedDict()\n",
    "\n",
    "a_key = None\n",
    "for _ in range(settings.NUMBER_OF_LEARNERS):\n",
    "    name = generate_slug(2)\n",
    "    print(f\"\\t ...adding {name}\")\n",
    "    pool_of_learners[name] = pyvw.vw(quiet=True)\n",
    "    a_key = name\n",
    "    \n",
    "assert type(pool_of_learners[a_key]) == type(pyvw.vw(quiet=True)), \"Pool contains different types than vw!\""
   ]
  },
  {
   "cell_type": "code",
   "execution_count": 5,
   "id": "7b25fb12",
   "metadata": {},
   "outputs": [
    {
     "name": "stderr",
     "output_type": "stream",
     "text": [
      "2021-07-19 11:29:21.969501: W tensorflow/stream_executor/platform/default/dso_loader.cc:64] Could not load dynamic library 'libcudart.so.11.0'; dlerror: libcudart.so.11.0: cannot open shared object file: No such file or directory\n",
      "2021-07-19 11:29:21.969533: I tensorflow/stream_executor/cuda/cudart_stub.cc:29] Ignore above cudart dlerror if you do not have a GPU set up on your machine.\n",
      "2021-07-19 11:29:23.443646: I tensorflow/stream_executor/platform/default/dso_loader.cc:53] Successfully opened dynamic library libcuda.so.1\n",
      "2021-07-19 11:29:23.519323: I tensorflow/core/common_runtime/gpu/gpu_device.cc:1733] Found device 0 with properties: \n",
      "pciBusID: 0000:02:00.0 name: NVIDIA GeForce GTX 1080 computeCapability: 6.1\n",
      "coreClock: 1.7335GHz coreCount: 20 deviceMemorySize: 7.93GiB deviceMemoryBandwidth: 298.32GiB/s\n",
      "2021-07-19 11:29:23.520029: I tensorflow/core/common_runtime/gpu/gpu_device.cc:1733] Found device 1 with properties: \n",
      "pciBusID: 0000:01:00.0 name: NVIDIA GeForce GTX 1050 computeCapability: 6.1\n",
      "coreClock: 1.455GHz coreCount: 5 deviceMemorySize: 1.95GiB deviceMemoryBandwidth: 104.43GiB/s\n",
      "2021-07-19 11:29:23.520143: W tensorflow/stream_executor/platform/default/dso_loader.cc:64] Could not load dynamic library 'libcudart.so.11.0'; dlerror: libcudart.so.11.0: cannot open shared object file: No such file or directory\n",
      "2021-07-19 11:29:23.520226: W tensorflow/stream_executor/platform/default/dso_loader.cc:64] Could not load dynamic library 'libcublas.so.11'; dlerror: libcublas.so.11: cannot open shared object file: No such file or directory\n",
      "2021-07-19 11:29:23.520303: W tensorflow/stream_executor/platform/default/dso_loader.cc:64] Could not load dynamic library 'libcublasLt.so.11'; dlerror: libcublasLt.so.11: cannot open shared object file: No such file or directory\n",
      "2021-07-19 11:29:23.520379: W tensorflow/stream_executor/platform/default/dso_loader.cc:64] Could not load dynamic library 'libcufft.so.10'; dlerror: libcufft.so.10: cannot open shared object file: No such file or directory\n",
      "2021-07-19 11:29:23.520454: W tensorflow/stream_executor/platform/default/dso_loader.cc:64] Could not load dynamic library 'libcurand.so.10'; dlerror: libcurand.so.10: cannot open shared object file: No such file or directory\n",
      "2021-07-19 11:29:23.520529: W tensorflow/stream_executor/platform/default/dso_loader.cc:64] Could not load dynamic library 'libcusolver.so.11'; dlerror: libcusolver.so.11: cannot open shared object file: No such file or directory\n",
      "2021-07-19 11:29:23.520617: W tensorflow/stream_executor/platform/default/dso_loader.cc:64] Could not load dynamic library 'libcusparse.so.11'; dlerror: libcusparse.so.11: cannot open shared object file: No such file or directory\n",
      "2021-07-19 11:29:23.520693: W tensorflow/stream_executor/platform/default/dso_loader.cc:64] Could not load dynamic library 'libcudnn.so.8'; dlerror: libcudnn.so.8: cannot open shared object file: No such file or directory\n",
      "2021-07-19 11:29:23.520708: W tensorflow/core/common_runtime/gpu/gpu_device.cc:1766] Cannot dlopen some GPU libraries. Please make sure the missing libraries mentioned above are installed properly if you would like to use GPU. Follow the guide at https://www.tensorflow.org/install/gpu for how to download and setup the required libraries for your platform.\n",
      "Skipping registering GPU devices...\n",
      "2021-07-19 11:29:23.521098: I tensorflow/core/platform/cpu_feature_guard.cc:142] This TensorFlow binary is optimized with oneAPI Deep Neural Network Library (oneDNN) to use the following CPU instructions in performance-critical operations:  AVX2 FMA\n",
      "To enable them in other operations, rebuild TensorFlow with the appropriate compiler flags.\n",
      "2021-07-19 11:29:23.522270: I tensorflow/core/common_runtime/gpu/gpu_device.cc:1258] Device interconnect StreamExecutor with strength 1 edge matrix:\n",
      "2021-07-19 11:29:23.522311: I tensorflow/core/common_runtime/gpu/gpu_device.cc:1264]      \n",
      "2021-07-19 11:29:24.869545: I tensorflow/compiler/mlir/mlir_graph_optimization_pass.cc:176] None of the MLIR Optimization Passes are enabled (registered 2)\n",
      "2021-07-19 11:29:24.888642: I tensorflow/core/platform/profile_utils/cpu_utils.cc:114] CPU Frequency: 2098730000 Hz\n"
     ]
    },
    {
     "name": "stdout",
     "output_type": "stream",
     "text": [
      "the decision was 1.0\n"
     ]
    }
   ],
   "source": [
    "# Property 3: ImageNet can recieve and output features that a learner can accept\n",
    "\n",
    "# class code attribution @sansi95 (https://github.com/robinsonkwame/kente-cloth-authentication/src/features/feature_processor.py)\n",
    "# modified\n",
    "from abc import ABC, abstractmethod\n",
    "import numpy as np\n",
    "from keras.applications.mobilenet_v2 import MobileNetV2\n",
    "from keras.applications import imagenet_utils\n",
    "from keras.preprocessing.image import img_to_array\n",
    "from keras.preprocessing.image import load_img\n",
    "from dynaconf import settings # because we frequently update the file \n",
    "import PIL\n",
    "\n",
    "class FeatureProcessor(ABC):\n",
    "    def __init__(self,\n",
    "                 batch_size,\n",
    "                 flattened_size,\n",
    "                 feature_file_format\n",
    "                ):\n",
    "        super().__init__()\n",
    "        self.batch_size = batch_size\n",
    "        self.flattened_size = flattened_size\n",
    "        self.feature_file_format = feature_file_format\n",
    "\n",
    "    @staticmethod\n",
    "    def create(\n",
    "        feature_processor_name,\n",
    "        batch_size,\n",
    "        feature_file_format\n",
    "    ):\n",
    "        if feature_processor_name == \"MobileNet\":\n",
    "            flattened_size = 7 * 7 * 1280\n",
    "            return MobileNetFeatureProcessor(batch_size, flattened_size, feature_file_format)\n",
    "\n",
    "    def initialize_output_processor(self, labels, feature_file_path):\n",
    "        if self.feature_file_format == \"npy\":\n",
    "            self.output_processor = NpyOutput(labels,\n",
    "            self.flattened_size, self.batch_size, feature_file_path)\n",
    "        elif self.feature_file_format == \"csv\":\n",
    "            self.output_processor = CsvOutput(labels,\n",
    "            self.batch_size, feature_file_path)\n",
    "\n",
    "    @abstractmethod\n",
    "    def process_image(self):\n",
    "        pass\n",
    "\n",
    "    @abstractmethod\n",
    "    def create_features(self):\n",
    "        pass\n",
    "\n",
    "class MobileNetFeatureProcessor(FeatureProcessor):\n",
    "    def __init__(self, batch_size, flattened_size, feature_file_format):\n",
    "        super().__init__(batch_size, flattened_size, feature_file_format)\n",
    "        self.model = MobileNetV2(weights=\"imagenet\",\n",
    "                                 include_top=False, \n",
    "                                 input_shape=(224, 224, 3)\n",
    "                    )\n",
    "        self.name = \"mobile\"\n",
    "\n",
    "    def process_image(self, image_path):\n",
    "        image = load_img(\n",
    "            image_path,\n",
    "            target_size=(224, 224)\n",
    "        )\n",
    "        image = img_to_array(image)\n",
    "        image = np.expand_dims(image, axis=0)\n",
    "        image = imagenet_utils.preprocess_input(image)\n",
    "        return image\n",
    "\n",
    "    def create_features(self, batch_images):\n",
    "        features = self.model.predict(\n",
    "            batch_images,\n",
    "            batch_size= self.batch_size\n",
    "        )\n",
    "        features = features.reshape(\n",
    "            (features.shape[0], self.flattened_size)\n",
    "        )\n",
    "        return features\n",
    "\n",
    "def construct_vw_example(label, image_array):\n",
    "    return f\"{label} |\" + np.array2string(\n",
    "        image_array,\n",
    "        precision=4,\n",
    "        separator=' ',\n",
    "        suppress_small=True\n",
    "    )\n",
    "\n",
    "    \n",
    "the_feature_processor = FeatureProcessor.create(\n",
    "        feature_processor_name=settings.FEATURE_PROCESSOR_NAME,\n",
    "        batch_size=settings.BATCH_SIZE,\n",
    "        feature_file_format=None\n",
    ")\n",
    "\n",
    "the_image_features = the_feature_processor.create_features(\n",
    "    the_feature_processor.process_image('./real_miami_a_25.jpg')\n",
    ")\n",
    "assert the_image_features.shape[1] == 7 * 7 * 1280, \"feature vector is not the expected length\"\n",
    "\n",
    "TRUE = 1\n",
    "image_feature_ex = pool_of_learners[a_key].example(\n",
    "    construct_vw_example(TRUE, the_image_features)\n",
    ")\n",
    "pool_of_learners[a_key].learn(image_feature_ex)\n",
    "\n",
    "decision = pool_of_learners[a_key].predict(image_feature_ex)\n",
    "assert decision == TRUE, \"The learned example was predicted to be something other than the example!\"\n",
    "print(f\"the decision was {decision}\")"
   ]
  },
  {
   "cell_type": "code",
   "execution_count": 6,
   "id": "fd6020ce",
   "metadata": {},
   "outputs": [],
   "source": [
    "# Property 4: Stand up an API that passes a list of image files to a learner\n",
    "# Note: this code requires a server to standup, see first block\n",
    "\n",
    "from typing import List\n",
    "\n",
    "from fastapi import FastAPI, File, UploadFile\n",
    "from fastapi.responses import HTMLResponse\n",
    "\n",
    "app = FastAPI()\n",
    "\n",
    "@app.post(\"/uploadfiles/\")\n",
    "async def create_upload_files(files: List[UploadFile] = File(...)):\n",
    "    return {\"filenames\": [file.filename for file in files]}\n",
    "\n",
    "@app.get(\"/\")\n",
    "async def main():\n",
    "    content = \"\"\"\n",
    "<body>\n",
    "<form action=\"/uploadfiles/\" enctype=\"multipart/form-data\" method=\"post\">\n",
    "<input name=\"files\" type=\"file\" multiple>\n",
    "<input type=\"submit\">\n",
    "</form>\n",
    "</body>\n",
    "    \"\"\"\n",
    "    return HTMLResponse(content=content)"
   ]
  },
  {
   "cell_type": "code",
   "execution_count": 7,
   "id": "ee7a1db8",
   "metadata": {},
   "outputs": [
    {
     "name": "stderr",
     "output_type": "stream",
     "text": [
      "INFO:     Started server process [22907]\n",
      "INFO:     Waiting for application startup.\n",
      "INFO:     Application startup complete.\n",
      "INFO:     Uvicorn running on http://10.0.1.7:8080 (Press CTRL+C to quit)\n"
     ]
    },
    {
     "name": "stdout",
     "output_type": "stream",
     "text": [
      "INFO:     10.0.1.36:53276 - \"GET / HTTP/1.1\" 200 OK\n",
      "INFO:     10.0.1.36:53277 - \"POST /uploadfiles/ HTTP/1.1\" 200 OK\n"
     ]
    },
    {
     "ename": "WaitForTimeoutError",
     "evalue": "Timeout reached while waiting for 127.0.0.1:8080 to be reachable",
     "output_type": "error",
     "traceback": [
      "\u001b[0;31m---------------------------------------------------------------------------\u001b[0m",
      "\u001b[0;31mConnectionRefusedError\u001b[0m                    Traceback (most recent call last)",
      "\u001b[0;32m/hdd/work/Research/authente-kente-online-learning/venv/lib/python3.8/site-packages/wait4it.py\u001b[0m in \u001b[0;36mwait_for\u001b[0;34m(port, host, polling_freq, timeout, raise_error)\u001b[0m\n\u001b[1;32m     98\u001b[0m             \u001b[0;32mtry\u001b[0m\u001b[0;34m:\u001b[0m\u001b[0;34m\u001b[0m\u001b[0;34m\u001b[0m\u001b[0m\n\u001b[0;32m---> 99\u001b[0;31m                 \u001b[0msck\u001b[0m\u001b[0;34m.\u001b[0m\u001b[0mconnect\u001b[0m\u001b[0;34m(\u001b[0m\u001b[0;34m(\u001b[0m\u001b[0mhost\u001b[0m\u001b[0;34m,\u001b[0m \u001b[0mport\u001b[0m\u001b[0;34m)\u001b[0m\u001b[0;34m)\u001b[0m\u001b[0;34m\u001b[0m\u001b[0;34m\u001b[0m\u001b[0m\n\u001b[0m\u001b[1;32m    100\u001b[0m                 \u001b[0;32mreturn\u001b[0m \u001b[0;32mTrue\u001b[0m\u001b[0;34m\u001b[0m\u001b[0;34m\u001b[0m\u001b[0m\n",
      "\u001b[0;31mConnectionRefusedError\u001b[0m: [Errno 111] Connection refused",
      "\nDuring handling of the above exception, another exception occurred:\n",
      "\u001b[0;31mWaitForTimeoutError\u001b[0m                       Traceback (most recent call last)",
      "\u001b[0;32m/tmp/ipykernel_22766/4108523061.py\u001b[0m in \u001b[0;36m<module>\u001b[0;34m\u001b[0m\n\u001b[0;32m----> 1\u001b[0;31m \u001b[0mstart_api\u001b[0m\u001b[0;34m(\u001b[0m\u001b[0;34m)\u001b[0m\u001b[0;34m\u001b[0m\u001b[0;34m\u001b[0m\u001b[0m\n\u001b[0m",
      "\u001b[0;32m/tmp/ipykernel_22766/1125251225.py\u001b[0m in \u001b[0;36mstart_api\u001b[0;34m()\u001b[0m\n\u001b[1;32m     24\u001b[0m     \u001b[0m_api_process\u001b[0m \u001b[0;34m=\u001b[0m \u001b[0mProcess\u001b[0m\u001b[0;34m(\u001b[0m\u001b[0mtarget\u001b[0m\u001b[0;34m=\u001b[0m\u001b[0mrun\u001b[0m\u001b[0;34m,\u001b[0m \u001b[0mdaemon\u001b[0m\u001b[0;34m=\u001b[0m\u001b[0;32mTrue\u001b[0m\u001b[0;34m)\u001b[0m\u001b[0;34m\u001b[0m\u001b[0;34m\u001b[0m\u001b[0m\n\u001b[1;32m     25\u001b[0m     \u001b[0m_api_process\u001b[0m\u001b[0;34m.\u001b[0m\u001b[0mstart\u001b[0m\u001b[0;34m(\u001b[0m\u001b[0;34m)\u001b[0m\u001b[0;34m\u001b[0m\u001b[0;34m\u001b[0m\u001b[0m\n\u001b[0;32m---> 26\u001b[0;31m     \u001b[0mwait_for\u001b[0m\u001b[0;34m(\u001b[0m\u001b[0mport\u001b[0m\u001b[0;34m=\u001b[0m\u001b[0mPORT\u001b[0m\u001b[0;34m)\u001b[0m\u001b[0;34m\u001b[0m\u001b[0;34m\u001b[0m\u001b[0m\n\u001b[0m\u001b[1;32m     27\u001b[0m \u001b[0;34m\u001b[0m\u001b[0m\n\u001b[1;32m     28\u001b[0m \u001b[0;32mdef\u001b[0m \u001b[0mdelete_route\u001b[0m\u001b[0;34m(\u001b[0m\u001b[0mmethod\u001b[0m\u001b[0;34m:\u001b[0m \u001b[0mstr\u001b[0m\u001b[0;34m,\u001b[0m \u001b[0mpath\u001b[0m\u001b[0;34m:\u001b[0m \u001b[0mstr\u001b[0m\u001b[0;34m)\u001b[0m\u001b[0;34m:\u001b[0m\u001b[0;34m\u001b[0m\u001b[0;34m\u001b[0m\u001b[0m\n",
      "\u001b[0;32m/hdd/work/Research/authente-kente-online-learning/venv/lib/python3.8/site-packages/wait4it.py\u001b[0m in \u001b[0;36mwait_for\u001b[0;34m(port, host, polling_freq, timeout, raise_error)\u001b[0m\n\u001b[1;32m    103\u001b[0m                 \u001b[0;32mif\u001b[0m \u001b[0mhave_timeout\u001b[0m \u001b[0;32mand\u001b[0m \u001b[0mtime\u001b[0m\u001b[0;34m(\u001b[0m\u001b[0;34m)\u001b[0m \u001b[0;34m-\u001b[0m \u001b[0mstart_time\u001b[0m \u001b[0;34m>=\u001b[0m \u001b[0mtimeout\u001b[0m\u001b[0;34m:\u001b[0m\u001b[0;34m\u001b[0m\u001b[0;34m\u001b[0m\u001b[0m\n\u001b[1;32m    104\u001b[0m                     \u001b[0;32mif\u001b[0m \u001b[0mraise_error\u001b[0m\u001b[0;34m:\u001b[0m\u001b[0;34m\u001b[0m\u001b[0;34m\u001b[0m\u001b[0m\n\u001b[0;32m--> 105\u001b[0;31m                         \u001b[0;32mraise\u001b[0m \u001b[0mWaitForTimeoutError\u001b[0m\u001b[0;34m(\u001b[0m\u001b[0mhost\u001b[0m\u001b[0;34m=\u001b[0m\u001b[0mhost\u001b[0m\u001b[0;34m,\u001b[0m \u001b[0mport\u001b[0m\u001b[0;34m=\u001b[0m\u001b[0mport\u001b[0m\u001b[0;34m)\u001b[0m\u001b[0;34m\u001b[0m\u001b[0;34m\u001b[0m\u001b[0m\n\u001b[0m\u001b[1;32m    106\u001b[0m                     \u001b[0;32melse\u001b[0m\u001b[0;34m:\u001b[0m\u001b[0;34m\u001b[0m\u001b[0;34m\u001b[0m\u001b[0m\n\u001b[1;32m    107\u001b[0m                         \u001b[0;32mreturn\u001b[0m \u001b[0;32mFalse\u001b[0m\u001b[0;34m\u001b[0m\u001b[0;34m\u001b[0m\u001b[0m\n",
      "\u001b[0;31mWaitForTimeoutError\u001b[0m: Timeout reached while waiting for 127.0.0.1:8080 to be reachable"
     ]
    }
   ],
   "source": [
    "start_api()"
   ]
  },
  {
   "cell_type": "code",
   "execution_count": 9,
   "id": "52e73576",
   "metadata": {},
   "outputs": [],
   "source": [
    "_api_process.kill()"
   ]
  }
 ],
 "metadata": {
  "kernelspec": {
   "display_name": "Python 3 (ipykernel)",
   "language": "python",
   "name": "python3"
  },
  "language_info": {
   "codemirror_mode": {
    "name": "ipython",
    "version": 3
   },
   "file_extension": ".py",
   "mimetype": "text/x-python",
   "name": "python",
   "nbconvert_exporter": "python",
   "pygments_lexer": "ipython3",
   "version": "3.8.9"
  }
 },
 "nbformat": 4,
 "nbformat_minor": 5
}
